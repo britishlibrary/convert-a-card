{
 "cells": [
  {
   "cell_type": "code",
   "execution_count": 158,
   "id": "7236ba04",
   "metadata": {},
   "outputs": [],
   "source": [
    "import pandas as pd\n",
    "import lxml\n",
    "import glob\n",
    "from lxml import etree\n",
    "from bs4 import BeautifulSoup\n",
    "import re \n",
    "import requests\n",
    "from urllib.parse import quote\n",
    "import sys\n",
    "sys.stdout = open('output.txt','wt')\n",
    "\n",
    "ns = \"{http://schema.primaresearch.org/PAGE/gts/pagecontent/2013-07-15}\"\n",
    "cards = './urdu_cards_pages/1032971/U2_for_Transkribus/page/*.xml'"
   ]
  },
  {
   "cell_type": "code",
   "execution_count": 159,
   "id": "33da0b28",
   "metadata": {},
   "outputs": [],
   "source": [
    "\n",
    "for card in glob.glob(cards):\n",
    "    with open(card, \"r\") as file:\n",
    "        soup = BeautifulSoup(file, 'xml')\n",
    "        shelfmark = soup.select('TextRegion[custom*=shelfmark]')[0].find_all('TextLine', recursive=False)[0].find_all('TextEquiv', recursive=False)[0].find_all('Unicode', recursive=False)[0]\n",
    "        shelfmark = shelfmark.get_text()\n",
    "        author = soup.select('TextRegion[custom*=author]')[0].find_all('TextLine', recursive=False)[0].find_all('TextEquiv', recursive=False)[0].find_all('Unicode', recursive=False)[0]\n",
    "        author = author.get_text()\n",
    "        title = soup.select('TextRegion[custom*=title]')[0].find_all('TextLine', recursive=False)[0].find_all('TextEquiv', recursive=False)[0].find_all('Unicode', recursive=False)[0]\n",
    "        title = title.get_text()\n"
   ]
  },
  {
   "cell_type": "code",
   "execution_count": 160,
   "id": "f390d747",
   "metadata": {},
   "outputs": [],
   "source": [
    "surname = author.split(',')[0]\n",
    "surname_encoded = quote(surname)\n",
    "\n",
    "#url = 'https://www.worldcat.org/search?q=ti%3Apromessi+au%3Amanzoni&qt=advanced&dblist=638'\n",
    "url = 'https://www.worldcat.org/search?q=au%3A'+surname_encoded+'&qt=advanced&dblist=638'\n",
    "page = requests.get(url)\n",
    "soup = BeautifulSoup(page.content, 'html.parser')\n"
   ]
  },
  {
   "cell_type": "code",
   "execution_count": 161,
   "id": "00ed6fac",
   "metadata": {},
   "outputs": [],
   "source": [
    "results_info = int(soup.select('div[class=resultsinfo]')[0].find_all('td')[0].find_all('strong')[1].get_text())\n",
    "n_pages = results_info//10\n"
   ]
  },
  {
   "cell_type": "code",
   "execution_count": 162,
   "id": "d2294e34",
   "metadata": {},
   "outputs": [
    {
     "data": {
      "text/plain": [
       "['https://www.worldcat.org/search?q=au%3ABARNI%20%28Muhammad%20Ilyas%29&qt=advanced&dblist=638',\n",
       " 'https://www.worldcat.org/search?q=au%3ABARNI%20%28Muhammad%20Ilyas%29&qt=advanced&dblist=638&start=11&qt=page_number_link',\n",
       " 'https://www.worldcat.org/search?q=au%3ABARNI%20%28Muhammad%20Ilyas%29&qt=advanced&dblist=638&start=21&qt=page_number_link',\n",
       " 'https://www.worldcat.org/search?q=au%3ABARNI%20%28Muhammad%20Ilyas%29&qt=advanced&dblist=638&start=31&qt=page_number_link',\n",
       " 'https://www.worldcat.org/search?q=au%3ABARNI%20%28Muhammad%20Ilyas%29&qt=advanced&dblist=638&start=41&qt=page_number_link',\n",
       " 'https://www.worldcat.org/search?q=au%3ABARNI%20%28Muhammad%20Ilyas%29&qt=advanced&dblist=638&start=51&qt=page_number_link',\n",
       " 'https://www.worldcat.org/search?q=au%3ABARNI%20%28Muhammad%20Ilyas%29&qt=advanced&dblist=638&start=61&qt=page_number_link',\n",
       " 'https://www.worldcat.org/search?q=au%3ABARNI%20%28Muhammad%20Ilyas%29&qt=advanced&dblist=638&start=71&qt=page_number_link']"
      ]
     },
     "execution_count": 162,
     "metadata": {},
     "output_type": "execute_result"
    }
   ],
   "source": [
    "urls = [url]  \n",
    "if n_pages > 1:\n",
    "    for i in range(1,n_pages+1):\n",
    "        urls.append(url+'&start='+str(i*10+1)+'&qt=page_number_link')\n",
    "urls"
   ]
  },
  {
   "cell_type": "code",
   "execution_count": 163,
   "id": "910a4b4a",
   "metadata": {},
   "outputs": [],
   "source": [
    "print('===========')\n",
    "print(\"CARD TRANSCRIPTION\")\n",
    "print('Shelfmark = '+ shelfmark)\n",
    "print('Author = '+ author)\n",
    "print('Title = '+ title)\n",
    "print()\n",
    "print(\"**PARAMETERS USED ON WORLDCAT**\")\n",
    "print('Surname: ' + surname)\n",
    "print('N. results: ' + str(results_info))\n",
    "print('===========')\n",
    "print()\n",
    "print(\"RESULTS:\")\n",
    "\n",
    "n = 1\n",
    "\n",
    "for u in urls:\n",
    "    page = requests.get(u)\n",
    "    soup = BeautifulSoup(page.content, 'html.parser')\n",
    "    results = soup.select('a[id*=result]')\n",
    "    for result in results:\n",
    "        s = str(result['href'])\n",
    "        print(n)\n",
    "        title = result.find('strong').text  \n",
    "        print('Title: '+ title)\n",
    "        ocloc_id = re.search(r'[0-9]{6,}', s)\n",
    "        print('ocloc_id: '+ ocloc_id.group(0))\n",
    "        url = 'http://www.worldcat.org/oclc/'+ocloc_id.group(0)\n",
    "        print('URL: '+ url)\n",
    "        print('===========')\n",
    "        print()\n",
    "        n +=1\n"
   ]
  },
  {
   "cell_type": "code",
   "execution_count": null,
   "id": "ca013423",
   "metadata": {},
   "outputs": [],
   "source": []
  },
  {
   "cell_type": "code",
   "execution_count": null,
   "id": "c797d764",
   "metadata": {},
   "outputs": [],
   "source": []
  },
  {
   "cell_type": "code",
   "execution_count": null,
   "id": "bd5a262f",
   "metadata": {},
   "outputs": [],
   "source": []
  }
 ],
 "metadata": {
  "kernelspec": {
   "display_name": "Python 3",
   "language": "python",
   "name": "python3"
  },
  "language_info": {
   "codemirror_mode": {
    "name": "ipython",
    "version": 3
   },
   "file_extension": ".py",
   "mimetype": "text/x-python",
   "name": "python",
   "nbconvert_exporter": "python",
   "pygments_lexer": "ipython3",
   "version": "3.8.8"
  }
 },
 "nbformat": 4,
 "nbformat_minor": 5
}
