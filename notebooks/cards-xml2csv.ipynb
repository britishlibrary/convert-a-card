{
 "cells": [
  {
   "cell_type": "markdown",
   "id": "1506ffbe",
   "metadata": {},
   "source": [
    "# Process Transkribus xml to Worldcat matched record"
   ]
  },
  {
   "cell_type": "markdown",
   "id": "16f7c537",
   "metadata": {},
   "source": [
    "This notebook is part of the convert-a-card project, and was originally developed by Giorgia Tolfo, with some refactoring and extension by Harry Lloyd. The nb is designed to:\n",
    "- Parse author/title/shelfmark from Page xml data exported from automatic transcription of Urdu and Pinyin catalogue cards in Transkribus.\n",
    "- Query OCLC worldcat for matches.\n",
    "- Assign a confidence score to these matches.\n",
    "- If no match found, set up a minimal record using data extracted from the card.\n",
    "- (Possibly) allow curators to select the best matched if multiple matches are returned."
   ]
  },
  {
   "cell_type": "code",
   "execution_count": null,
   "id": "0d7380a9",
   "metadata": {},
   "outputs": [],
   "source": [
    "import glob\n",
    "import re \n",
    "from urllib.parse import quote\n",
    "import sys\n",
    "import xml.etree.ElementTree as ET\n",
    "import pandas as pd\n",
    "# import lxml\n",
    "# from lxml import etree\n",
    "from bs4 import BeautifulSoup\n",
    "import requests\n",
    "from z3950.PyZ3950 import zoom\n",
    "import filecmp\n",
    "import os"
   ]
  },
  {
   "cell_type": "code",
   "execution_count": null,
   "id": "7236ba04",
   "metadata": {},
   "outputs": [],
   "source": [
    "ns = \"{http://schema.primaresearch.org/PAGE/gts/pagecontent/2013-07-15}\"  # xml namespace\n",
    "cards = glob.glob('.\\\\urdu_cards_pages\\\\1032971\\\\U2_for_Transkribus\\\\page\\\\*.xml')  # Urdu drawer 2 from Transkribus"
   ]
  },
  {
   "cell_type": "code",
   "execution_count": null,
   "id": "d8c67ec1",
   "metadata": {},
   "outputs": [],
   "source": [
    "cards[0]"
   ]
  },
  {
   "cell_type": "code",
   "execution_count": null,
   "id": "11b5f1b5",
   "metadata": {},
   "outputs": [],
   "source": [
    "tree = ET.parse(cards[0])\n",
    "root = tree.getroot()"
   ]
  },
  {
   "cell_type": "code",
   "execution_count": null,
   "id": "fe463e3a",
   "metadata": {},
   "outputs": [],
   "source": [
    "len(root)"
   ]
  },
  {
   "cell_type": "code",
   "execution_count": null,
   "id": "99e03fa9",
   "metadata": {},
   "outputs": [],
   "source": [
    "root[0].tag"
   ]
  },
  {
   "cell_type": "code",
   "execution_count": null,
   "id": "f21d724d",
   "metadata": {},
   "outputs": [],
   "source": [
    "root[1].tag"
   ]
  },
  {
   "cell_type": "code",
   "execution_count": null,
   "id": "eeccdb18",
   "metadata": {},
   "outputs": [],
   "source": [
    "root[1].attrib"
   ]
  },
  {
   "cell_type": "code",
   "execution_count": null,
   "id": "ec4a202c",
   "metadata": {},
   "outputs": [],
   "source": [
    "root.attrib"
   ]
  },
  {
   "cell_type": "code",
   "execution_count": null,
   "id": "44091bc8",
   "metadata": {},
   "outputs": [],
   "source": [
    "records = []\n",
    "\n",
    "for f in cards:\n",
    "    print(f + '\\n')\n",
    "    tree = ET.parse(f)\n",
    "    root = tree.getroot()\n",
    "\n",
    "    shelfmarks = []\n",
    "    titles = []\n",
    "    authors = []\n",
    "    record = []\n",
    "\n",
    "    for TextRegion in root.iter(ns + 'TextRegion'):\n",
    "        if re.search('shelfmark', TextRegion.attrib['custom']):\n",
    "            el_shelfmark = TextRegion.find('./{http://schema.primaresearch.org/PAGE/gts/pagecontent/2013-07-15}TextLine/{http://schema.primaresearch.org/PAGE/gts/pagecontent/2013-07-15}TextEquiv/{http://schema.primaresearch.org/PAGE/gts/pagecontent/2013-07-15}Unicode') \n",
    "            if el_shelfmark is not None:\n",
    "                shelfmarks.append(el_shelfmark.text)\n",
    "                \n",
    "            else:\n",
    "                shelfmark = None\n",
    "        \n",
    "        else:\n",
    "            shelfmark = None\n",
    "\n",
    "        if re.search('title', TextRegion.attrib['custom']):\n",
    "            el_title = TextRegion.find('./{http://schema.primaresearch.org/PAGE/gts/pagecontent/2013-07-15}TextLine/{http://schema.primaresearch.org/PAGE/gts/pagecontent/2013-07-15}TextEquiv/{http://schema.primaresearch.org/PAGE/gts/pagecontent/2013-07-15}Unicode')\n",
    "            \n",
    "            if el_title is not None:\n",
    "                titles.append(el_title.text)\n",
    "    \n",
    "            else:\n",
    "                title = None\n",
    "        else:\n",
    "            title = None\n",
    "            \n",
    "        if re.search('author', TextRegion.attrib['custom']):\n",
    "            el_author = TextRegion.find('./{http://schema.primaresearch.org/PAGE/gts/pagecontent/2013-07-15}TextLine/{http://schema.primaresearch.org/PAGE/gts/pagecontent/2013-07-15}TextEquiv/{http://schema.primaresearch.org/PAGE/gts/pagecontent/2013-07-15}Unicode')\n",
    "            if el_author is not None:\n",
    "                authors.append(el_author.text)\n",
    "                \n",
    "            else:\n",
    "                author = None\n",
    "        \n",
    "        \n",
    "        else:\n",
    "            author = None\n",
    "\n",
    "    print('Shelfmark: ', shelfmarks)\n",
    "    print('Title: ', titles)\n",
    "    print('Author: ', authors)\n",
    "    \n",
    "    \n",
    "    record = {'card_xml': f, 'title' : titles, 'author': authors, 'shelfmark': shelfmarks}\n",
    "    records.append(record)\n",
    "    print(record, '\\n\\n')"
   ]
  },
  {
   "cell_type": "code",
   "execution_count": null,
   "id": "bf9374db",
   "metadata": {},
   "outputs": [],
   "source": [
    "xml_df = pd.DataFrame(records).sort_values(by=['card_xml'])\n",
    "xml_df"
   ]
  },
  {
   "cell_type": "code",
   "execution_count": null,
   "id": "8058b2dc",
   "metadata": {},
   "outputs": [],
   "source": [
    "# df.to_csv('test_with_lxml_new.csv')"
   ]
  },
  {
   "cell_type": "code",
   "execution_count": null,
   "id": "1cd55b48",
   "metadata": {},
   "outputs": [],
   "source": [
    "def test_OCLC_query(title):\n",
    "    conn = zoom.Connection('zcat.oclc.org', 210, user='100270667', password='oclccat')\n",
    "    conn.databaseName = 'OLUCWorldCat'\n",
    "    conn.preferredRecordSyntax = 'USMARC'\n",
    "\n",
    "    query = zoom.Query(f'ti=\"{title}\"')\n",
    "\n",
    "    res = conn.search(query)\n",
    "    for r in res:\n",
    "        print(str(r))\n",
    "    conn.close()\n",
    "\n",
    "\n",
    "def test_OCLC_query(title, author):\n",
    "    conn = zoom.Connection('zcat.oclc.org', 210, user='100270667', password='oclccat')\n",
    "    conn.databaseName = 'OLUCWorldCat'\n",
    "    conn.preferredRecordSyntax = 'USMARC'\n",
    "\n",
    "    query = zoom.Query(f'ti=\"{title}\" and au=\"{author}\"')\n",
    "\n",
    "    res = conn.search(query)\n",
    "    for i, r in enumerate(res):\n",
    "        print(f\"Record {i}\")\n",
    "        print(str(r))\n",
    "    conn.close()\n",
    "    \n",
    "    \n",
    "def OCLC_query(title, author):\n",
    "    conn = zoom.Connection('zcat.oclc.org', 210, user='100270667', password='oclccat')\n",
    "    conn.databaseName = 'OLUCWorldCat'\n",
    "    conn.preferredRecordSyntax = 'USMARC'\n",
    "\n",
    "    query = zoom.Query(f'ti=\"{title}\" and au=\"{author}\"')\n",
    "\n",
    "    res = conn.search(query)\n",
    "    conn.close()\n",
    "    if res:\n",
    "        res_dict = {i:r for i, r in enumerate(res)}\n",
    "        return res_dict\n",
    "    else:\n",
    "        return None\n",
    "    \n",
    "    \n",
    "def test_BL_query(blid='018948571'):\n",
    "    conn = zoom.Connection('z3950cat.bl.uk', 9909, user='COLMET2912', password='2m5v2Qyv')\n",
    "    conn.databaseName = 'ZBLACU'\n",
    "    conn.preferredRecordSyntax = 'USMARC'\n",
    "    query = zoom.Query(f'id=\"{blid}\"')\n",
    "    res = conn.search(query)\n",
    "    for r in res:\n",
    "        print(str(r))\n",
    "    conn.close()\n",
    "\n",
    "    \n",
    "def remove_duplicates(x):\n",
    "    return list(dict.fromkeys(x))"
   ]
  },
  {
   "cell_type": "code",
   "execution_count": null,
   "id": "911c3634",
   "metadata": {},
   "outputs": [],
   "source": [
    "test_OCLC_query(\"Madame Bovary\", 'Flaubert')"
   ]
  },
  {
   "cell_type": "code",
   "execution_count": null,
   "id": "ee0c3eda",
   "metadata": {},
   "outputs": [],
   "source": [
    "OCLC_query(xml_df.loc[0,'title'], xml_df.loc[0,'author'])"
   ]
  },
  {
   "cell_type": "code",
   "execution_count": null,
   "id": "63687293",
   "metadata": {},
   "outputs": [],
   "source": [
    "xml_df.head()"
   ]
  },
  {
   "cell_type": "code",
   "execution_count": null,
   "id": "94f7a1b8",
   "metadata": {},
   "outputs": [],
   "source": [
    "xml_df.iloc[0]"
   ]
  },
  {
   "cell_type": "code",
   "execution_count": null,
   "id": "334a6a59",
   "metadata": {},
   "outputs": [],
   "source": [
    "xml_df.apply(lambda x: OCLC_query(x['title'][0], x['author'][0]),axis=1)"
   ]
  },
  {
   "cell_type": "code",
   "execution_count": null,
   "id": "f34ec4f4",
   "metadata": {},
   "outputs": [],
   "source": [
    "'''This includes a very cut-down version of https://github.com/asl2/PyZ3950 and some code for parsing MARC records which is loosely based on https://pypi.org/project/pymarc/\n",
    " \n",
    "Hopefully you will be able to run the two example queries in the file test_queries.py and work from there. Both of the queries use authentication credentials – you should probably check whether LibCrowds has ever had its own credentials, especially for querying OCLC as I think we do get charged something annuals for permission to derive records from them.\n",
    " \n",
    "My cut-down version of the scripts will only do z3950 searches (no other kinds of transactions, e.g. sorting, writing, deleting), and only uses CCL query language. See https://help.oclc.org/Resource_Sharing/Relais_ILL/DiscoverItem/DiscoverItem_Search/020Constructing_CCL_query for information on CCL queries, and note that there are other query languages with the same initials! There is probably still a lot of redundant code and dead ends in there – I haven’t had time yet to work out what everything does.'''"
   ]
  },
  {
   "cell_type": "code",
   "execution_count": null,
   "id": "e3b7a72c",
   "metadata": {},
   "outputs": [],
   "source": [
    "# %%capture cap --no-stderr\n",
    "# print 'stuff'\n",
    "# with open('output.txt', 'w') as f:\n",
    "#     f.write(cap.stdout)"
   ]
  },
  {
   "cell_type": "code",
   "execution_count": null,
   "id": "3abbdadf",
   "metadata": {},
   "outputs": [],
   "source": [
    "#testing "
   ]
  },
  {
   "cell_type": "code",
   "execution_count": null,
   "id": "00b4238b",
   "metadata": {},
   "outputs": [],
   "source": [
    "# tree = ET.parse('./urdu_cards_pages/1032971/U2_for_Transkribus/page/0001_24567971014.xml')\n",
    "# root = tree.getroot()\n",
    "    \n",
    "# shelfmarks = []\n",
    "# titles = []\n",
    "# authors = []\n",
    "# record = []\n",
    "\n",
    "# for TextRegion in root.iter(ns+'TextRegion'):\n",
    "#     if re.search('shelfmark', TextRegion.attrib['custom']):\n",
    "#         y = TextRegion.find('./{http://schema.primaresearch.org/PAGE/gts/pagecontent/2013-07-15}TextLine/{http://schema.primaresearch.org/PAGE/gts/pagecontent/2013-07-15}TextEquiv/{http://schema.primaresearch.org/PAGE/gts/pagecontent/2013-07-15}Unicode')\n",
    "#         print(y.text)"
   ]
  },
  {
   "cell_type": "code",
   "execution_count": null,
   "id": "789544e3",
   "metadata": {},
   "outputs": [],
   "source": [
    "root.find('.//{'+ns+'}TextLine/')"
   ]
  },
  {
   "cell_type": "code",
   "execution_count": null,
   "id": "bb691931",
   "metadata": {},
   "outputs": [],
   "source": [
    "tree = ET.parse('./urdu_cards_pages/1032971/U2_for_Transkribus/page/0001_24567971014.xml')\n",
    "root = tree.getroot()\n",
    "\n",
    "shelfmarks = []\n",
    "titles = []\n",
    "authors = []\n",
    "record = []\n",
    "\n",
    "for TextRegion in root.iter(ns+'TextRegion'):\n",
    "        if re.search('shelfmark', TextRegion.attrib['custom']) :\n",
    "            el_shelfmark = TextRegion.find('./{http://schema.primaresearch.org/PAGE/gts/pagecontent/2013-07-15}TextLine/{http://schema.primaresearch.org/PAGE/gts/pagecontent/2013-07-15}TextEquiv/{http://schema.primaresearch.org/PAGE/gts/pagecontent/2013-07-15}Unicode') \n",
    "            if el_shelfmark is not None:\n",
    "                shelfmarks.append(el_shelfmark.text)\n",
    "                \n",
    "            else:\n",
    "                shelfmark = None\n",
    "        \n",
    "        else:\n",
    "            shelfmark = None\n",
    "      \n",
    "\n",
    "\n",
    "        if re.search('title', TextRegion.attrib['custom']):\n",
    "            el_title = TextRegion.find('./{http://schema.primaresearch.org/PAGE/gts/pagecontent/2013-07-15}TextLine/{http://schema.primaresearch.org/PAGE/gts/pagecontent/2013-07-15}TextEquiv/{http://schema.primaresearch.org/PAGE/gts/pagecontent/2013-07-15}Unicode')\n",
    "            \n",
    "            if el_title is not None:\n",
    "                titles.append(el_title.text)\n",
    "                \n",
    "            else:\n",
    "                title = None\n",
    "           \n",
    "            \n",
    "        else:\n",
    "            title = None\n",
    "            \n",
    "\n",
    "\n",
    "\n",
    "        if re.search('author', TextRegion.attrib['custom']):\n",
    "            el_author = TextRegion.find('./{http://schema.primaresearch.org/PAGE/gts/pagecontent/2013-07-15}TextLine/{http://schema.primaresearch.org/PAGE/gts/pagecontent/2013-07-15}TextEquiv/{http://schema.primaresearch.org/PAGE/gts/pagecontent/2013-07-15}Unicode')\n",
    "            if el_author is not None:\n",
    "                authors.append(el_author.text)\n",
    "                \n",
    "            else:\n",
    "                author = None\n",
    "        \n",
    "        \n",
    "        else:\n",
    "            author = None\n",
    "\n",
    "print('Shelfmark: ', shelfmarks)\n",
    "print('Title: ', titles)\n",
    "print('Author: ', authors)"
   ]
  }
 ],
 "metadata": {
  "kernelspec": {
   "display_name": "Python [conda env:cac]",
   "language": "python",
   "name": "conda-env-cac-py"
  },
  "language_info": {
   "codemirror_mode": {
    "name": "ipython",
    "version": 3
   },
   "file_extension": ".py",
   "mimetype": "text/x-python",
   "name": "python",
   "nbconvert_exporter": "python",
   "pygments_lexer": "ipython3",
   "version": "3.8.16"
  }
 },
 "nbformat": 4,
 "nbformat_minor": 5
}
